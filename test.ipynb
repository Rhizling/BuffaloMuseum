{
  "nbformat": 4,
  "nbformat_minor": 0,
  "metadata": {
    "colab": {
      "provenance": [],
      "toc_visible": true
    },
    "kernelspec": {
      "name": "python3",
      "display_name": "Python 3"
    },
    "language_info": {
      "name": "python"
    }
  },
  "cells": [
    {
      "cell_type": "code",
      "execution_count": 56,
      "metadata": {
        "colab": {
          "base_uri": "https://localhost:8080/"
        },
        "id": "8Mifh3Ns0mya",
        "outputId": "2458d150-c50e-48a0-ded9-08b2f36253fc"
      },
      "outputs": [
        {
          "output_type": "stream",
          "name": "stdout",
          "text": [
            "Requirement already satisfied: neo4j in /usr/local/lib/python3.10/dist-packages (5.10.0)\n",
            "Requirement already satisfied: pytz in /usr/local/lib/python3.10/dist-packages (from neo4j) (2022.7.1)\n"
          ]
        }
      ],
      "source": [
        "import pandas as pd\n",
        "import numpy as np\n",
        "import matplotlib.pyplot as plt\n",
        "%pip install neo4j\n",
        "from neo4j import GraphDatabase\n",
        "import networkx as nx\n",
        "import matplotlib.pyplot as plt"
      ]
    },
    {
      "cell_type": "code",
      "source": [
        "url = \"bolt://3.238.27.128:7687\";\n",
        "username = \"neo4j\"\n",
        "password = \"receptacle-plastics-scabs\"\n",
        "\n",
        "driver = GraphDatabase.driver(url, auth=(username, password))\n",
        "\n"
      ],
      "metadata": {
        "id": "Y3pKgnyhtjAY"
      },
      "execution_count": 57,
      "outputs": []
    },
    {
      "cell_type": "code",
      "source": [
        "floor_locations = [\"Admission\",\"Senserie\",\"Bite Size Science\",\"Cummings Room\",\"3D Cinema\",\"Earth\", \"Wind\", \"Jaeger Room\"];\n",
        "with driver.session() as session:\n",
        "    # Perform database operations within the session\n",
        "    for location in floor_locations:\n",
        "      session.run(\"CREATE (n:room {name: '\" + location +\"'})\")"
      ],
      "metadata": {
        "id": "IrYgH1sMH4-_"
      },
      "execution_count": 58,
      "outputs": []
    },
    {
      "cell_type": "code",
      "source": [
        "with driver.session() as session:\n",
        "  for i in range(len(floor_locations)-1):\n",
        "    for j in range(len(floor_locations)):\n",
        "      if floor_locations[i] != floor_locations[j]:\n",
        "          query = (\n",
        "                    \"MATCH (source), (target) \"\n",
        "                    \"WHERE source.name = $source_name AND target.name = $target_name \"\n",
        "                      \"CREATE (source)-[:RELATIONSHIP {movement: '0'}]->(target)\"\n",
        "          )\n",
        "          params = {\n",
        "                    \"source_name\": floor_locations[i],\n",
        "                    \"target_name\": floor_locations[j]\n",
        "          }\n",
        "          session.run(query,params)"
      ],
      "metadata": {
        "id": "bLRlkC1VTuta"
      },
      "execution_count": 59,
      "outputs": []
    },
    {
      "cell_type": "code",
      "source": [
        "def process_movement(path):\n",
        "  for i in range(len(path)-1):\n",
        "    with driver.session() as session:\n",
        "      session.run(\"MATCH (source:room {name: $source_name})-[r:RELATIONSHIP]->(target:room {name: $target_name}) \"\n",
        "                \"SET r.movement = toInteger(r.movement) + 1\",\n",
        "                source_name=path[i], target_name=path[i+1])"
      ],
      "metadata": {
        "id": "FMtw0gvJfJAV"
      },
      "execution_count": 60,
      "outputs": []
    },
    {
      "cell_type": "code",
      "source": [
        "lanyard1 = [\"Admission\",\"Bite Size Science\",\"3D Cinema\",\"Wind\",\"Admission\"];\n",
        "process_movement(lanyard1)"
      ],
      "metadata": {
        "id": "HsJZat3O8FQt"
      },
      "execution_count": null,
      "outputs": []
    },
    {
      "cell_type": "code",
      "source": [
        "import random\n",
        "\n",
        "def random_list(locations):\n",
        "  to_random = floor_locations[1:]\n",
        "  start = 1;\n",
        "  end = len(locations)-1;\n",
        "  random_number = random.randint(start, end);\n",
        "  randomized_list = random.sample(to_random, random_number)\n",
        "  return [\"Admission\"] + randomized_list + [\"Admission\"]\n",
        "\n"
      ],
      "metadata": {
        "id": "QUyxC7q2qAss"
      },
      "execution_count": 52,
      "outputs": []
    },
    {
      "cell_type": "code",
      "source": [
        "for i in range(100):\n",
        "  lanyard = random_list(floor_locations)\n",
        "  process_movement(lanyard)"
      ],
      "metadata": {
        "id": "lkuvtrv9dw3d"
      },
      "execution_count": 62,
      "outputs": []
    },
    {
      "cell_type": "code",
      "source": [
        "with driver.session() as session:\n",
        "     session.run(\"MATCH (n) DETACH DELETE n\")"
      ],
      "metadata": {
        "id": "dVaMPK13PQJv"
      },
      "execution_count": 63,
      "outputs": []
    },
    {
      "cell_type": "code",
      "source": [
        "# To make sure everyone has left in the case of an evacuation the system will actually show that everyone has either left through admission or through one of the emergency exits at the end of their paths\n",
        "# In which case, those pings can be processed separately if the system were to be alerted of an evacuation (we didn't have enough time or people to show a demonstration of this)"
      ],
      "metadata": {
        "id": "UlxjK40u9dHs"
      },
      "execution_count": null,
      "outputs": []
    }
  ]
}