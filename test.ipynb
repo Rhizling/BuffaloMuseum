{
  "nbformat": 4,
  "nbformat_minor": 0,
  "metadata": {
    "colab": {
      "provenance": []
    },
    "kernelspec": {
      "name": "python3",
      "display_name": "Python 3"
    },
    "language_info": {
      "name": "python"
    }
  },
  "cells": [
    {
      "cell_type": "code",
      "execution_count": 17,
      "metadata": {
        "colab": {
          "base_uri": "https://localhost:8080/"
        },
        "id": "8Mifh3Ns0mya",
        "outputId": "83826b96-4bb7-4985-ac4d-d22e8224c4ed"
      },
      "outputs": [
        {
          "output_type": "stream",
          "name": "stdout",
          "text": [
            "Requirement already satisfied: neo4j in /usr/local/lib/python3.10/dist-packages (5.10.0)\n",
            "Requirement already satisfied: pytz in /usr/local/lib/python3.10/dist-packages (from neo4j) (2022.7.1)\n"
          ]
        }
      ],
      "source": [
        "import pandas as pd\n",
        "import numpy as np\n",
        "import matplotlib.pyplot as plt\n",
        "%pip install neo4j\n",
        "from neo4j import GraphDatabase\n",
        "import networkx as nx\n",
        "import matplotlib.pyplot as plt"
      ]
    },
    {
      "cell_type": "code",
      "source": [
        "url = \"bolt://3.238.27.128:7687\";\n",
        "username = \"neo4j\"\n",
        "password = \"receptacle-plastics-scabs\"\n",
        "\n",
        "driver = GraphDatabase.driver(url, auth=(username, password))\n",
        "\n"
      ],
      "metadata": {
        "id": "Y3pKgnyhtjAY"
      },
      "execution_count": 48,
      "outputs": []
    },
    {
      "cell_type": "code",
      "source": [
        "floor_locations = [\"Admission\",\"Senserie\",\"Bite Size Science\",\"Cummings Room\",\"3D Cinema\",\"Earth\", \"Wind\", \"Jaeger Room\"];\n",
        "with driver.session() as session:\n",
        "    # Perform database operations within the session\n",
        "    for location in floor_locations:\n",
        "      session.run(\"CREATE (n:room {name: '\" + location +\"'})\")"
      ],
      "metadata": {
        "id": "IrYgH1sMH4-_"
      },
      "execution_count": 49,
      "outputs": []
    },
    {
      "cell_type": "code",
      "source": [
        "with driver.session() as session:\n",
        "  for i in range(len(floor_locations)-1):\n",
        "    for j in range(len(floor_locations)):\n",
        "      if floor_locations[i] != floor_locations[j]:\n",
        "          query = (\n",
        "                    \"MATCH (source), (target) \"\n",
        "                    \"WHERE source.name = $source_name AND target.name = $target_name \"\n",
        "                      \"CREATE (source)-[:RELATIONSHIP {movement: '0'}]->(target)\"\n",
        "          )\n",
        "          params = {\n",
        "                    \"source_name\": floor_locations[i],\n",
        "                    \"target_name\": floor_locations[j]\n",
        "          }\n",
        "          session.run(query,params)"
      ],
      "metadata": {
        "id": "bLRlkC1VTuta"
      },
      "execution_count": 50,
      "outputs": []
    },
    {
      "cell_type": "code",
      "source": [
        "def process_movement(path):\n",
        "  for i in range(len(path)-1):\n",
        "    with driver.session() as session:\n",
        "      session.run(\"MATCH (source:room {name: $source_name})-[r:RELATIONSHIP]->(target:room {name: $target_name}) \"\n",
        "                \"SET r.movement = toInteger(r.movement) + 1\",\n",
        "                source_name=path[i], target_name=path[i+1])\n"
      ],
      "metadata": {
        "id": "FMtw0gvJfJAV"
      },
      "execution_count": 51,
      "outputs": []
    },
    {
      "cell_type": "code",
      "source": [
        "import random\n",
        "\n",
        "def random_list(locations):\n",
        "  to_random = floor_locations[1:]\n",
        "  start = 1;\n",
        "  end = len(locations)-1;\n",
        "  random_number = random.randint(start, end);\n",
        "  randomized_list = random.sample(to_random, random_number)\n",
        "  return [\"Admission\"] + randomized_list + [\"Admission\"]\n",
        "\n"
      ],
      "metadata": {
        "id": "QUyxC7q2qAss"
      },
      "execution_count": 52,
      "outputs": []
    },
    {
      "cell_type": "code",
      "source": [
        "lanyard1 = [\"Admission\",\"Bite Size Science\",\"3D Cinema\",\"Wind\",\"Admission\"];\n",
        "process_movement(lanyard1)"
      ],
      "metadata": {
        "id": "1B3f9yyKwAWC"
      },
      "execution_count": 54,
      "outputs": []
    },
    {
      "cell_type": "code",
      "source": [
        "for i in range(100):\n",
        "  lanyard = random_list(floor_locations)\n",
        "  process_movement(lanyard)"
      ],
      "metadata": {
        "id": "lkuvtrv9dw3d"
      },
      "execution_count": 53,
      "outputs": []
    },
    {
      "cell_type": "code",
      "source": [
        "with driver.session() as session:\n",
        "     session.run(\"MATCH (n) DETACH DELETE n\")"
      ],
      "metadata": {
        "id": "dVaMPK13PQJv"
      },
      "execution_count": 47,
      "outputs": []
    },
    {
      "cell_type": "code",
      "source": [],
      "metadata": {
        "id": "geKwk7t92Dmy"
      },
      "execution_count": 2,
      "outputs": []
    }
  ]
}